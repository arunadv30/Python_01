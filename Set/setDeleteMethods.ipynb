{
 "cells": [
  {
   "cell_type": "code",
   "execution_count": 1,
   "id": "1d6a9bcd-9abd-41df-984b-e13300be3f1f",
   "metadata": {},
   "outputs": [
    {
     "name": "stdout",
     "output_type": "stream",
     "text": [
      "{102, 103, 104, 105}\n"
     ]
    }
   ],
   "source": [
    "eids = {101,102,103,104,105}\n",
    "eids.pop() # removes random element\n",
    "print(eids)"
   ]
  },
  {
   "cell_type": "code",
   "execution_count": 3,
   "id": "807f4ce0-a290-4072-ba5a-9a6367ab2517",
   "metadata": {},
   "outputs": [
    {
     "name": "stdout",
     "output_type": "stream",
     "text": [
      "{101, 103, 104, 105}\n"
     ]
    }
   ],
   "source": [
    "eids = {101,102,103,104,105}\n",
    "eids.remove(102) #removes specified element, throws err if ele not present\n",
    "print(eids)"
   ]
  },
  {
   "cell_type": "code",
   "execution_count": 7,
   "id": "1910f1bd-4b1c-4a47-9a9d-9e72591d9926",
   "metadata": {},
   "outputs": [
    {
     "name": "stdout",
     "output_type": "stream",
     "text": [
      "{101, 102, 103, 104, 105}\n"
     ]
    }
   ],
   "source": [
    "eids = {101,102,103,104,105}\n",
    "eids.discard(106) #removes specified element, no err if ele not present\n",
    "print(eids)"
   ]
  },
  {
   "cell_type": "code",
   "execution_count": 8,
   "id": "81005704-ce84-4cb0-8c10-065bcfdc796e",
   "metadata": {},
   "outputs": [
    {
     "name": "stdout",
     "output_type": "stream",
     "text": [
      "set()\n"
     ]
    }
   ],
   "source": [
    "eids = {101,102,103,104,105}\n",
    "eids.clear()\n",
    "print(eids)"
   ]
  },
  {
   "cell_type": "code",
   "execution_count": 11,
   "id": "7012b78e-a2c2-465b-af88-fe3a50ccdf13",
   "metadata": {},
   "outputs": [
    {
     "name": "stdout",
     "output_type": "stream",
     "text": [
      "{40, 10, 50, 20, 60, 30}\n",
      "{40, 10, 50, 20, 60, 30}\n",
      "{40, 30}\n"
     ]
    }
   ],
   "source": [
    "s1={10,20,30,40}\n",
    "s2={30,40,50,60}\n",
    "print(s1.union(s2))\n",
    "print(s1 | s2)\n",
    "\n",
    "# print(s1.difference(s2))\n",
    "# print(s2.difference(s1))\n",
    "# print(s1.symmetric_differences(s2))\n"
   ]
  },
  {
   "cell_type": "code",
   "execution_count": 12,
   "id": "3ce67ca4-e8df-481c-bb35-901f7d0b6cb9",
   "metadata": {},
   "outputs": [
    {
     "name": "stdout",
     "output_type": "stream",
     "text": [
      "{40, 30}\n",
      "{40, 30}\n"
     ]
    }
   ],
   "source": [
    "s1={10,20,30,40}\n",
    "s2={30,40,50,60}\n",
    "print(s1.intersection(s2))\n",
    "print(s1 & s2)"
   ]
  },
  {
   "cell_type": "code",
   "execution_count": 14,
   "id": "65cdba67-d2e5-4532-b868-e73808865eb0",
   "metadata": {},
   "outputs": [
    {
     "name": "stdout",
     "output_type": "stream",
     "text": [
      "{10, 20}\n",
      "{10, 20}\n"
     ]
    }
   ],
   "source": [
    "s1={10,20,30,40}\n",
    "s2={30,40,50,60}\n",
    "print(s1.difference(s2))\n",
    "print(s1 - s2)"
   ]
  },
  {
   "cell_type": "code",
   "execution_count": 15,
   "id": "6d408bf4-dc4c-4805-8594-66c27dd931a8",
   "metadata": {},
   "outputs": [
    {
     "name": "stdout",
     "output_type": "stream",
     "text": [
      "{50, 60}\n",
      "{50, 60}\n"
     ]
    }
   ],
   "source": [
    "s1={10,20,30,40}\n",
    "s2={30,40,50,60}\n",
    "print(s2.difference(s1))\n",
    "print(s2 - s1)"
   ]
  },
  {
   "cell_type": "code",
   "execution_count": 18,
   "id": "2e1795f1-3e3e-471d-8a91-b323a407b392",
   "metadata": {},
   "outputs": [
    {
     "name": "stdout",
     "output_type": "stream",
     "text": [
      "{10, 50, 20, 60}\n",
      "{10, 50, 20, 60}\n"
     ]
    }
   ],
   "source": [
    "s1={10,20,30,40}\n",
    "s2={30,40,50,60}\n",
    "print(s2.symmetric_difference(s1))\n",
    "print(s1 ^ s2)"
   ]
  },
  {
   "cell_type": "code",
   "execution_count": null,
   "id": "5c89b521-4731-4fc5-8a0f-960435029569",
   "metadata": {},
   "outputs": [],
   "source": []
  }
 ],
 "metadata": {
  "kernelspec": {
   "display_name": "Python 3 (ipykernel)",
   "language": "python",
   "name": "python3"
  },
  "language_info": {
   "codemirror_mode": {
    "name": "ipython",
    "version": 3
   },
   "file_extension": ".py",
   "mimetype": "text/x-python",
   "name": "python",
   "nbconvert_exporter": "python",
   "pygments_lexer": "ipython3",
   "version": "3.12.5"
  }
 },
 "nbformat": 4,
 "nbformat_minor": 5
}
