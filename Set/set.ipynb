{
 "cells": [
  {
   "cell_type": "code",
   "execution_count": 5,
   "id": "4c9e7642-f05e-4d5b-b0d5-d2b5205b65f3",
   "metadata": {},
   "outputs": [
    {
     "name": "stdout",
     "output_type": "stream",
     "text": [
      "{}\n",
      "<class 'dict'>\n"
     ]
    }
   ],
   "source": [
    "s1={}\n",
    "\n",
    "\n",
    "print(s1)\n",
    "print(type(s1))\n"
   ]
  },
  {
   "cell_type": "code",
   "execution_count": 6,
   "id": "5e37fd95-fad0-40fa-aee7-638004153309",
   "metadata": {},
   "outputs": [
    {
     "name": "stdout",
     "output_type": "stream",
     "text": [
      "{40, 10, 20, 30}\n"
     ]
    }
   ],
   "source": [
    "#no order guarentee\n",
    "s3={10,10,20,20,20,30,40,30,40}\n",
    "print(s3)"
   ]
  },
  {
   "cell_type": "code",
   "execution_count": 7,
   "id": "ba50e324-4863-4cec-b32b-e3c9c4b8b763",
   "metadata": {},
   "outputs": [
    {
     "name": "stdout",
     "output_type": "stream",
     "text": [
      "{True, 101, 102, 103, 104, 'Rahul'}\n"
     ]
    }
   ],
   "source": [
    "eids={101,102,103,104,\"Rahul\",\"Rahul\",101,102,103,104,True}\n",
    "print(eids)"
   ]
  },
  {
   "cell_type": "code",
   "execution_count": 8,
   "id": "c469c33c-afd2-4849-89d4-5f1eff97d151",
   "metadata": {},
   "outputs": [
    {
     "name": "stdout",
     "output_type": "stream",
     "text": [
      "104\n",
      "101\n",
      "102\n",
      "103\n"
     ]
    }
   ],
   "source": [
    "eids={101,102,103,104}\n",
    "for eid in eids:\n",
    "    print(eid)"
   ]
  },
  {
   "cell_type": "code",
   "execution_count": 9,
   "id": "d879b94a-6576-45fd-958d-8cd9870475ec",
   "metadata": {},
   "outputs": [
    {
     "ename": "TypeError",
     "evalue": "'int' object is not iterable",
     "output_type": "error",
     "traceback": [
      "\u001b[1;31m---------------------------------------------------------------------------\u001b[0m",
      "\u001b[1;31mTypeError\u001b[0m                                 Traceback (most recent call last)",
      "Cell \u001b[1;32mIn[9], line 2\u001b[0m\n\u001b[0;32m      1\u001b[0m eids\u001b[38;5;241m=\u001b[39m{\u001b[38;5;241m101\u001b[39m,\u001b[38;5;241m102\u001b[39m,\u001b[38;5;241m103\u001b[39m,\u001b[38;5;241m104\u001b[39m}\n\u001b[1;32m----> 2\u001b[0m \u001b[43meids\u001b[49m\u001b[38;5;241;43m.\u001b[39;49m\u001b[43mupdate\u001b[49m\u001b[43m(\u001b[49m\u001b[38;5;241;43m105\u001b[39;49m\u001b[43m)\u001b[49m\n\u001b[0;32m      3\u001b[0m \u001b[38;5;28mprint\u001b[39m(eids)\n",
      "\u001b[1;31mTypeError\u001b[0m: 'int' object is not iterable"
     ]
    }
   ],
   "source": [
    "eids={101,102,103,104}\n",
    "eids.update(105)\n",
    "print(eids)"
   ]
  },
  {
   "cell_type": "code",
   "execution_count": 10,
   "id": "2cbeb006-23e7-4611-8b72-cf4e92b2d401",
   "metadata": {},
   "outputs": [
    {
     "name": "stdout",
     "output_type": "stream",
     "text": [
      "{70, 40, 10, 80, 50, 20, 60, 30}\n"
     ]
    }
   ],
   "source": [
    "#update- used to add elements\n",
    "s1={10,20,30,40}\n",
    "s2={50,60,70,80}\n",
    "\n",
    "s1.update(s2)\n",
    "print(s1)\n"
   ]
  },
  {
   "cell_type": "code",
   "execution_count": 12,
   "id": "9cb8a16d-5c8e-445d-a56c-2ca5f16e09ba",
   "metadata": {},
   "outputs": [
    {
     "name": "stdout",
     "output_type": "stream",
     "text": [
      "{100, 70, 40, 10, 80, 50, 20, 90, 60, 30}\n"
     ]
    }
   ],
   "source": [
    "s1={10,20,30,40}\n",
    "s2={50,60,70,80}\n",
    "s3={90,100}\n",
    "s1.update(s2,s3)\n",
    "print(s1)"
   ]
  },
  {
   "cell_type": "code",
   "execution_count": 13,
   "id": "553de4a7-e6bd-4ae4-a693-4ba7447a34ce",
   "metadata": {},
   "outputs": [
    {
     "name": "stdout",
     "output_type": "stream",
     "text": [
      "{1, 2, 3, 4, 100, 101, 102, 40, 103, 10, 20, 30}\n"
     ]
    }
   ],
   "source": [
    "s1={10,20,30,40}\n",
    "r1=range(10)\n",
    "l1=[100,101,102,103]\n",
    "t1=(1,2,3,4)\n",
    "s1.update(t1,l1,t1)\n",
    "print(s1)"
   ]
  },
  {
   "cell_type": "code",
   "execution_count": 14,
   "id": "e8576cd7-8874-407b-8fb0-3bc79d3e124e",
   "metadata": {},
   "outputs": [
    {
     "name": "stdout",
     "output_type": "stream",
     "text": [
      "{'R', 40, 10, 'u', 'l', 'a', 20, 30, 'h'}\n"
     ]
    }
   ],
   "source": [
    "s1={10,20,30,40}\n",
    "s1.update(\"Rahul\")\n",
    "print(s1)"
   ]
  },
  {
   "cell_type": "code",
   "execution_count": null,
   "id": "a2f9fa97-2f0b-453e-b2da-4963cd762db8",
   "metadata": {},
   "outputs": [],
   "source": []
  }
 ],
 "metadata": {
  "kernelspec": {
   "display_name": "Python 3 (ipykernel)",
   "language": "python",
   "name": "python3"
  },
  "language_info": {
   "codemirror_mode": {
    "name": "ipython",
    "version": 3
   },
   "file_extension": ".py",
   "mimetype": "text/x-python",
   "name": "python",
   "nbconvert_exporter": "python",
   "pygments_lexer": "ipython3",
   "version": "3.12.5"
  }
 },
 "nbformat": 4,
 "nbformat_minor": 5
}
