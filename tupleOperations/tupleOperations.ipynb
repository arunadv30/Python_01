{
 "cells": [
  {
   "cell_type": "code",
   "execution_count": null,
   "id": "0fa0dd58-fcab-4072-b86a-5432fd2ddf58",
   "metadata": {},
   "outputs": [],
   "source": []
  }
 ],
 "metadata": {
  "kernelspec": {
   "display_name": "",
   "name": ""
  },
  "language_info": {
   "name": ""
  }
 },
 "nbformat": 4,
 "nbformat_minor": 5
}
