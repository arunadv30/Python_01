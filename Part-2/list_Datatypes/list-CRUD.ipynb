{
 "cells": [
  {
   "cell_type": "code",
   "execution_count": 3,
   "id": "510b9fff-9cac-4aba-ba12-47c4be41b3ca",
   "metadata": {},
   "outputs": [
    {
     "name": "stdout",
     "output_type": "stream",
     "text": [
      "[10, 20, 30, 40, 50]\n",
      "<class 'list'>\n"
     ]
    }
   ],
   "source": [
    "#create list object\n",
    "l1=[10,20,30,40,50]\n",
    "print(l1)\n",
    "print(type(l1))"
   ]
  },
  {
   "cell_type": "code",
   "execution_count": 5,
   "id": "2a4d6a1b-7fa9-4124-a059-3bcc7ab83afd",
   "metadata": {},
   "outputs": [
    {
     "name": "stdout",
     "output_type": "stream",
     "text": [
      "[10, 10, 10, 20.5, 'Rahul', True, [], {}]\n",
      "<class 'list'>\n"
     ]
    }
   ],
   "source": [
    "l2=[10,10,10,20.5,\"Rahul\",True,[],{}]\n",
    "print(l2)\n",
    "print(type(l2))"
   ]
  },
  {
   "cell_type": "code",
   "execution_count": 6,
   "id": "8d6254fd-2a28-485a-b704-9a39ffd9ed84",
   "metadata": {},
   "outputs": [
    {
     "name": "stdout",
     "output_type": "stream",
     "text": [
      "101\n",
      "102\n",
      "103\n",
      "104\n"
     ]
    }
   ],
   "source": [
    "eids=[101,102,103,104]\n",
    "#index 0 1 2 3\n",
    "print(eids[0])\n",
    "print(eids[1])\n",
    "print(eids[2])\n",
    "print(eids[3])"
   ]
  },
  {
   "cell_type": "code",
   "execution_count": 8,
   "id": "f6a3bd19-287e-4d48-8e88-eb2b0f4db3c2",
   "metadata": {},
   "outputs": [
    {
     "name": "stdout",
     "output_type": "stream",
     "text": [
      "101\n",
      "104\n",
      "103\n",
      "102\n"
     ]
    },
    {
     "ename": "IndexError",
     "evalue": "list index out of range",
     "output_type": "error",
     "traceback": [
      "\u001b[1;31m---------------------------------------------------------------------------\u001b[0m",
      "\u001b[1;31mIndexError\u001b[0m                                Traceback (most recent call last)",
      "Cell \u001b[1;32mIn[8], line 8\u001b[0m\n\u001b[0;32m      6\u001b[0m \u001b[38;5;28mprint\u001b[39m(eids[\u001b[38;5;241m-\u001b[39m\u001b[38;5;241m2\u001b[39m])\n\u001b[0;32m      7\u001b[0m \u001b[38;5;28mprint\u001b[39m(eids[\u001b[38;5;241m-\u001b[39m\u001b[38;5;241m3\u001b[39m])\n\u001b[1;32m----> 8\u001b[0m \u001b[38;5;28mprint\u001b[39m(\u001b[43meids\u001b[49m\u001b[43m[\u001b[49m\u001b[38;5;241;43m10\u001b[39;49m\u001b[43m]\u001b[49m) \u001b[38;5;66;03m#list index out of range\u001b[39;00m\n",
      "\u001b[1;31mIndexError\u001b[0m: list index out of range"
     ]
    }
   ],
   "source": [
    "eids=[101,102,103,104]\n",
    "#index  0  1  2  3\n",
    "#index -4 -3 -2 -1\n",
    "print(eids[0])\n",
    "print(eids[-1])\n",
    "print(eids[-2])\n",
    "print(eids[-3])\n",
    "print(eids[10]) #list index out of range"
   ]
  },
  {
   "cell_type": "code",
   "execution_count": 10,
   "id": "2823d7a6-b055-4029-a87d-ce43cb0f2745",
   "metadata": {},
   "outputs": [
    {
     "name": "stdout",
     "output_type": "stream",
     "text": [
      "Rahul\n",
      "Sonia\n",
      "Priyanka\n",
      "Modi\n"
     ]
    }
   ],
   "source": [
    "enames = [\"Rahul\",\"Sonia\",\"Priyanka\",\"Modi\"]\n",
    "for ename in enames:\n",
    "    print(ename)"
   ]
  },
  {
   "cell_type": "code",
   "execution_count": 11,
   "id": "53ec897e-343c-4284-86d5-9ad047d5ce03",
   "metadata": {},
   "outputs": [
    {
     "name": "stdout",
     "output_type": "stream",
     "text": [
      "Rahul\n",
      "Sonia\n",
      "Priyanka\n",
      "Modi\n"
     ]
    }
   ],
   "source": [
    "enames = [\"Rahul\",\"Sonia\",\"Priyanka\",\"Modi\"]\n",
    "i=0\n",
    "while i<=3:\n",
    "    print(enames[i])\n",
    "    i=i+1"
   ]
  },
  {
   "cell_type": "code",
   "execution_count": 16,
   "id": "831fe5fc-4837-44fc-8bf3-a90edc5ea460",
   "metadata": {},
   "outputs": [
    {
     "name": "stdout",
     "output_type": "stream",
     "text": [
      "225\n"
     ]
    }
   ],
   "source": [
    "#list objects using while loop\n",
    "marks = [35,36,37,38,39,40]\n",
    "sum=0\n",
    "i=0\n",
    "while i<=5:\n",
    "    sum=sum+marks[i]\n",
    "    i=i+1\n",
    "print(sum)\n",
    "    \n",
    "    \n",
    "    "
   ]
  },
  {
   "cell_type": "code",
   "execution_count": 15,
   "id": "f15fb3af-2da2-43d5-bac6-a05b25788883",
   "metadata": {},
   "outputs": [
    {
     "name": "stdout",
     "output_type": "stream",
     "text": [
      "225\n"
     ]
    }
   ],
   "source": [
    "#list objects using for loop\n",
    "marks = [35,36,37,38,39,40]\n",
    "sum=0\n",
    "i=0\n",
    "for mark in marks:\n",
    "    sum=sum+mark\n",
    "    \n",
    "print(sum)"
   ]
  },
  {
   "cell_type": "code",
   "execution_count": 20,
   "id": "faed8166-a59c-4dfe-9c17-f117eebde47d",
   "metadata": {},
   "outputs": [
    {
     "name": "stdout",
     "output_type": "stream",
     "text": [
      "[] [10, 20, 30, 40] [0, 1, 2, 3, 4]\n"
     ]
    },
    {
     "name": "stdin",
     "output_type": "stream",
     "text": [
      "Enter Data [10,20,30,40]\n"
     ]
    },
    {
     "name": "stdout",
     "output_type": "stream",
     "text": [
      "[10, 20, 30, 40]\n",
      "<class 'list'>\n"
     ]
    }
   ],
   "source": [
    "#how ro create/diff ways to create list object\n",
    "l1=[]\n",
    "l2=[10,20,30,40]\n",
    "l3= list(range(0,5))\n",
    "print(l1,l2,l3)\n",
    "\n",
    "l4= eval(input(\"Enter Data\"))\n",
    "print(l4)\n",
    "print(type(l4))"
   ]
  },
  {
   "cell_type": "code",
   "execution_count": 22,
   "id": "eea30d8a-0957-448b-a455-04b0baef028c",
   "metadata": {},
   "outputs": [
    {
     "name": "stdout",
     "output_type": "stream",
     "text": [
      "5\n"
     ]
    }
   ],
   "source": [
    "l1=[10,20,30,40,10]\n",
    "print(len(l1))\n",
    "      \n",
    "\n"
   ]
  },
  {
   "cell_type": "code",
   "execution_count": 28,
   "id": "378865c2-2187-42c9-88e5-fdb0cc605539",
   "metadata": {},
   "outputs": [
    {
     "name": "stdout",
     "output_type": "stream",
     "text": [
      "1\n"
     ]
    }
   ],
   "source": [
    "enames=[\"Rahul\",\"Sonia\",\"Priya\",\"Rajini\"]\n",
    "print(enames.index(\"Sonia\"))"
   ]
  },
  {
   "cell_type": "code",
   "execution_count": null,
   "id": "770890a6-0011-4e1a-8324-3378d269962a",
   "metadata": {},
   "outputs": [],
   "source": []
  }
 ],
 "metadata": {
  "kernelspec": {
   "display_name": "Python 3 (ipykernel)",
   "language": "python",
   "name": "python3"
  },
  "language_info": {
   "codemirror_mode": {
    "name": "ipython",
    "version": 3
   },
   "file_extension": ".py",
   "mimetype": "text/x-python",
   "name": "python",
   "nbconvert_exporter": "python",
   "pygments_lexer": "ipython3",
   "version": "3.12.5"
  }
 },
 "nbformat": 4,
 "nbformat_minor": 5
}
