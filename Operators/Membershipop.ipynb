{
 "cells": [
  {
   "cell_type": "code",
   "execution_count": 3,
   "id": "a4ca4a08-e083-4182-b99f-663417dd4417",
   "metadata": {},
   "outputs": [
    {
     "name": "stdout",
     "output_type": "stream",
     "text": [
      "True\n",
      "True\n",
      "False\n"
     ]
    }
   ],
   "source": [
    "ename = \"Rahul\"\n",
    "enames = [\"Rahul\",\"Sonia\",\"Priyanka\",\"Modi\"]\n",
    "t = (10,20,30,40)\n",
    "s= {101,102,103,104}\n",
    "emp = {'id':101, 'name':'Rahul Gandhi'}\n",
    "print('h' in ename)\n",
    "print(\"Sonia\" in enames)\n",
    "print(\"Sonia\"  not in enames)"
   ]
  },
  {
   "cell_type": "code",
   "execution_count": null,
   "id": "02a4cf15-c2cb-45ba-adab-2105b0d51433",
   "metadata": {},
   "outputs": [],
   "source": []
  }
 ],
 "metadata": {
  "kernelspec": {
   "display_name": "Python 3 (ipykernel)",
   "language": "python",
   "name": "python3"
  },
  "language_info": {
   "codemirror_mode": {
    "name": "ipython",
    "version": 3
   },
   "file_extension": ".py",
   "mimetype": "text/x-python",
   "name": "python",
   "nbconvert_exporter": "python",
   "pygments_lexer": "ipython3",
   "version": "3.12.5"
  }
 },
 "nbformat": 4,
 "nbformat_minor": 5
}
