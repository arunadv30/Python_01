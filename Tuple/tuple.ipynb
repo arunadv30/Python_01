{
 "cells": [
  {
   "cell_type": "code",
   "execution_count": 5,
   "id": "d527b83a-c7a9-4813-97d7-cb2a436c7178",
   "metadata": {},
   "outputs": [
    {
     "name": "stdout",
     "output_type": "stream",
     "text": [
      "()\n",
      "(10,)\n",
      "(10, 20, 30, 40)\n",
      "(0, 1, 2, 3, 4, 5, 6, 7, 8, 9)\n",
      "<class 'tuple'>\n",
      "<class 'tuple'>\n",
      "<class 'tuple'>\n",
      "<class 'tuple'>\n"
     ]
    }
   ],
   "source": [
    "#create\n",
    "t1=()\n",
    "t2=10,\n",
    "t3=10,20,30,40\n",
    "t4=tuple(range(10))\n",
    "\n",
    "print(t1)\n",
    "print(t2)\n",
    "print(t3)\n",
    "print(t4)\n",
    "\n",
    "print(type(t1))\n",
    "print(type(t2))\n",
    "print(type(t3))\n",
    "print(type(t4))"
   ]
  },
  {
   "cell_type": "code",
   "execution_count": 2,
   "id": "554d5d69-cc5c-4ae8-976d-b1de0e2e66f4",
   "metadata": {},
   "outputs": [
    {
     "name": "stdout",
     "output_type": "stream",
     "text": [
      "(10, 10, 'Mon', 'Tue', 'Wed')\n"
     ]
    }
   ],
   "source": [
    "t2=(10,10,\"Mon\",\"Tue\",\"Wed\")\n",
    "print(t2)"
   ]
  },
  {
   "cell_type": "code",
   "execution_count": 6,
   "id": "aa6bbb97-1be0-4475-8c2d-f6d640298312",
   "metadata": {},
   "outputs": [
    {
     "name": "stdout",
     "output_type": "stream",
     "text": [
      "Rahul\n"
     ]
    }
   ],
   "source": [
    "enames=('Rahul','Sonia','Priyanka','Modi','Amith','Rajni')\n",
    "print(enames[0])"
   ]
  },
  {
   "cell_type": "code",
   "execution_count": 7,
   "id": "ee673ad8-9885-4b6a-be70-888286ae30b4",
   "metadata": {},
   "outputs": [
    {
     "name": "stdout",
     "output_type": "stream",
     "text": [
      "Rahul\n",
      "Sonia\n",
      "Priyanka\n",
      "Modi\n",
      "Amith\n",
      "Rajni\n"
     ]
    }
   ],
   "source": [
    "enames=('Rahul','Sonia','Priyanka','Modi','Amith','Rajni')\n",
    "for name in enames:\n",
    "    print(name)"
   ]
  },
  {
   "cell_type": "code",
   "execution_count": 9,
   "id": "27881fdc-61b0-4d28-a72d-92ae9beafb52",
   "metadata": {},
   "outputs": [
    {
     "name": "stdout",
     "output_type": "stream",
     "text": [
      "Rahul\n",
      "Sonia\n",
      "Priyanka\n",
      "Modi\n",
      "Amith\n",
      "Rajni\n"
     ]
    }
   ],
   "source": [
    "enames=('Rahul','Sonia','Priyanka','Modi','Amith','Rajni')\n",
    "i=0\n",
    "while i<=len(enames)-1:\n",
    "    print(enames[i])\n",
    "    i=i+1"
   ]
  },
  {
   "cell_type": "code",
   "execution_count": 10,
   "id": "ca4e10e0-b5a7-447b-9f49-615039aae58c",
   "metadata": {},
   "outputs": [
    {
     "name": "stdout",
     "output_type": "stream",
     "text": [
      "('Jan', 'Feb', 'March', 'May')\n"
     ]
    }
   ],
   "source": [
    "months=(\"Jan\",\"Feb\",\"March\",\"May\")\n",
    "print(months)"
   ]
  },
  {
   "cell_type": "code",
   "execution_count": 11,
   "id": "9ffcf442-fcfd-4a6d-96e1-2c29acb2b291",
   "metadata": {},
   "outputs": [
    {
     "name": "stdout",
     "output_type": "stream",
     "text": [
      "('Jan', 'Feb', 'March', 'May')\n"
     ]
    },
    {
     "ename": "AttributeError",
     "evalue": "'tuple' object has no attribute 'append'",
     "output_type": "error",
     "traceback": [
      "\u001b[1;31m---------------------------------------------------------------------------\u001b[0m",
      "\u001b[1;31mAttributeError\u001b[0m                            Traceback (most recent call last)",
      "Cell \u001b[1;32mIn[11], line 3\u001b[0m\n\u001b[0;32m      1\u001b[0m months\u001b[38;5;241m=\u001b[39m(\u001b[38;5;124m\"\u001b[39m\u001b[38;5;124mJan\u001b[39m\u001b[38;5;124m\"\u001b[39m,\u001b[38;5;124m\"\u001b[39m\u001b[38;5;124mFeb\u001b[39m\u001b[38;5;124m\"\u001b[39m,\u001b[38;5;124m\"\u001b[39m\u001b[38;5;124mMarch\u001b[39m\u001b[38;5;124m\"\u001b[39m,\u001b[38;5;124m\"\u001b[39m\u001b[38;5;124mMay\u001b[39m\u001b[38;5;124m\"\u001b[39m)\n\u001b[0;32m      2\u001b[0m \u001b[38;5;28mprint\u001b[39m(months)\n\u001b[1;32m----> 3\u001b[0m \u001b[43mmonths\u001b[49m\u001b[38;5;241;43m.\u001b[39;49m\u001b[43mappend\u001b[49m(\u001b[38;5;124m\"\u001b[39m\u001b[38;5;124mJune\u001b[39m\u001b[38;5;124m\"\u001b[39m)\n",
      "\u001b[1;31mAttributeError\u001b[0m: 'tuple' object has no attribute 'append'"
     ]
    }
   ],
   "source": [
    "#attribute error- no update operation\n",
    "\n",
    "months=(\"Jan\",\"Feb\",\"March\",\"May\")\n",
    "print(months)\n",
    "months.append(\"June\")"
   ]
  },
  {
   "cell_type": "code",
   "execution_count": 16,
   "id": "aa0834f4-9f33-4d49-a372-6f38e4086c48",
   "metadata": {},
   "outputs": [
    {
     "name": "stdout",
     "output_type": "stream",
     "text": [
      "['Amith', 'Modi', 'Priyanka', 'Rahul', 'Rajni', 'Sonia']\n",
      "<class 'list'>\n",
      "('Amith', 'Modi', 'Priyanka', 'Rahul', 'Rajni', 'Sonia')\n",
      "<class 'tuple'>\n"
     ]
    }
   ],
   "source": [
    "#sort-tuple\n",
    "enames=('Rahul','Sonia','Priyanka','Modi','Amith','Rajni')\n",
    "new_names=sorted(enames)\n",
    "print(new_names)\n",
    "print(type(new_names))\n",
    "enames=(tuple(new_names))\n",
    "print(enames)\n",
    "print(type(enames))\n"
   ]
  },
  {
   "cell_type": "code",
   "execution_count": 19,
   "id": "7c8292e7-4823-45f2-83c1-09410a7dc019",
   "metadata": {},
   "outputs": [
    {
     "name": "stdout",
     "output_type": "stream",
     "text": [
      "1\n"
     ]
    },
    {
     "ename": "ValueError",
     "evalue": "tuple.index(x): x not in tuple",
     "output_type": "error",
     "traceback": [
      "\u001b[1;31m---------------------------------------------------------------------------\u001b[0m",
      "\u001b[1;31mValueError\u001b[0m                                Traceback (most recent call last)",
      "Cell \u001b[1;32mIn[19], line 3\u001b[0m\n\u001b[0;32m      1\u001b[0m enames\u001b[38;5;241m=\u001b[39m(\u001b[38;5;124m'\u001b[39m\u001b[38;5;124mRahul\u001b[39m\u001b[38;5;124m'\u001b[39m,\u001b[38;5;124m'\u001b[39m\u001b[38;5;124mSonia\u001b[39m\u001b[38;5;124m'\u001b[39m,\u001b[38;5;124m'\u001b[39m\u001b[38;5;124mPriyanka\u001b[39m\u001b[38;5;124m'\u001b[39m,\u001b[38;5;124m'\u001b[39m\u001b[38;5;124mModi\u001b[39m\u001b[38;5;124m'\u001b[39m,\u001b[38;5;124m'\u001b[39m\u001b[38;5;124mAmith\u001b[39m\u001b[38;5;124m'\u001b[39m,\u001b[38;5;124m'\u001b[39m\u001b[38;5;124mRajni\u001b[39m\u001b[38;5;124m'\u001b[39m)\n\u001b[0;32m      2\u001b[0m \u001b[38;5;28mprint\u001b[39m(enames\u001b[38;5;241m.\u001b[39mindex(\u001b[38;5;124m'\u001b[39m\u001b[38;5;124mSonia\u001b[39m\u001b[38;5;124m'\u001b[39m))\n\u001b[1;32m----> 3\u001b[0m \u001b[38;5;28mprint\u001b[39m(\u001b[43menames\u001b[49m\u001b[38;5;241;43m.\u001b[39;49m\u001b[43mindex\u001b[49m\u001b[43m(\u001b[49m\u001b[38;5;124;43m'\u001b[39;49m\u001b[38;5;124;43mSonia Gandhi\u001b[39;49m\u001b[38;5;124;43m'\u001b[39;49m\u001b[43m)\u001b[49m)\n",
      "\u001b[1;31mValueError\u001b[0m: tuple.index(x): x not in tuple"
     ]
    }
   ],
   "source": [
    "enames=('Rahul','Sonia','Priyanka','Modi','Amith','Rajni')\n",
    "print(enames.index('Sonia'))\n",
    "print(enames.index('Sonia Gandhi'))"
   ]
  },
  {
   "cell_type": "code",
   "execution_count": 22,
   "id": "4dde1fb5-b5b9-4aed-b715-43dc82e08243",
   "metadata": {},
   "outputs": [
    {
     "name": "stdout",
     "output_type": "stream",
     "text": [
      "2\n"
     ]
    }
   ],
   "source": [
    "enames=('Rahul','Sonia','Sonia','Priyanka','Modi','Amith','Rajni')\n",
    "print(enames.count('Sonia'))"
   ]
  },
  {
   "cell_type": "code",
   "execution_count": 23,
   "id": "081a66fe-ac9d-42bb-887c-40fe2ddb1992",
   "metadata": {},
   "outputs": [
    {
     "ename": "AttributeError",
     "evalue": "'tuple' object has no attribute 'copy'",
     "output_type": "error",
     "traceback": [
      "\u001b[1;31m---------------------------------------------------------------------------\u001b[0m",
      "\u001b[1;31mAttributeError\u001b[0m                            Traceback (most recent call last)",
      "Cell \u001b[1;32mIn[23], line 2\u001b[0m\n\u001b[0;32m      1\u001b[0m t1\u001b[38;5;241m=\u001b[39m(\u001b[38;5;241m10\u001b[39m,\u001b[38;5;241m20\u001b[39m)\n\u001b[1;32m----> 2\u001b[0m t2\u001b[38;5;241m=\u001b[39m \u001b[43mt1\u001b[49m\u001b[38;5;241;43m.\u001b[39;49m\u001b[43mcopy\u001b[49m()\n\u001b[0;32m      3\u001b[0m \u001b[38;5;28mprint\u001b[39m(t2)\n",
      "\u001b[1;31mAttributeError\u001b[0m: 'tuple' object has no attribute 'copy'"
     ]
    }
   ],
   "source": [
    "#attribute error\n",
    "t1=(10,20)\n",
    "t2= t1.copy()\n",
    "print(t2)"
   ]
  },
  {
   "cell_type": "code",
   "execution_count": null,
   "id": "66504a90-495b-4cbc-a187-e5c89b3130b9",
   "metadata": {},
   "outputs": [],
   "source": []
  }
 ],
 "metadata": {
  "kernelspec": {
   "display_name": "Python 3 (ipykernel)",
   "language": "python",
   "name": "python3"
  },
  "language_info": {
   "codemirror_mode": {
    "name": "ipython",
    "version": 3
   },
   "file_extension": ".py",
   "mimetype": "text/x-python",
   "name": "python",
   "nbconvert_exporter": "python",
   "pygments_lexer": "ipython3",
   "version": "3.12.5"
  }
 },
 "nbformat": 4,
 "nbformat_minor": 5
}
