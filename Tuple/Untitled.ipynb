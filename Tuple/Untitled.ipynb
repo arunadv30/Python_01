{
 "cells": [
  {
   "cell_type": "code",
   "execution_count": null,
   "id": "e064a128-fdaa-4e02-ac57-e5125669749b",
   "metadata": {},
   "outputs": [],
   "source": []
  }
 ],
 "metadata": {
  "kernelspec": {
   "display_name": "",
   "name": ""
  },
  "language_info": {
   "name": ""
  }
 },
 "nbformat": 4,
 "nbformat_minor": 5
}
