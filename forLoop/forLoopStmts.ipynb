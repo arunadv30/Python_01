{
 "cells": [
  {
   "cell_type": "code",
   "execution_count": 2,
   "id": "b548d23e-e759-46d0-9b02-d7e198c2179c",
   "metadata": {},
   "outputs": [
    {
     "name": "stdout",
     "output_type": "stream",
     "text": [
      "GM GM GM GM GM GM GM GM GM GM GM GM GM GM GM GM GM GM GM GM "
     ]
    }
   ],
   "source": [
    "for ele in range(20):\n",
    "    print('GM',end=\" \")"
   ]
  },
  {
   "cell_type": "code",
   "execution_count": 17,
   "id": "9a196484-cead-4c99-8053-44a24a2062e4",
   "metadata": {},
   "outputs": [
    {
     "name": "stdout",
     "output_type": "stream",
     "text": [
      "10  11  12  13  14  15  16  17  18  19  20  21  22  23  24  25  26  27  28  29  30  31  32  33  34  35  36  37  38  39  40  41  42  43  44  45  46  47  48  49  50  "
     ]
    }
   ],
   "source": [
    "for ele in range(10,51,1):\n",
    "    print(ele,end=\"  \")"
   ]
  },
  {
   "cell_type": "code",
   "execution_count": 18,
   "id": "a53c6709-5aca-49a9-b832-a02618588ea4",
   "metadata": {},
   "outputs": [
    {
     "name": "stdout",
     "output_type": "stream",
     "text": [
      "100  99  98  97  96  95  94  93  92  91  90  89  88  87  86  85  84  83  82  81  80  79  78  77  76  75  74  73  72  71  70  69  68  67  66  65  64  63  62  61  60  59  58  57  56  55  54  53  52  51  50  49  48  47  46  45  44  43  42  41  40  39  38  37  36  35  34  33  32  31  30  29  28  27  26  25  24  23  22  21  20  19  18  17  16  15  14  13  12  11  10  9  8  7  6  5  4  3  2  1  "
     ]
    }
   ],
   "source": [
    "for ele in range(100,0,-1):\n",
    "    print(ele, end=\"  \")"
   ]
  },
  {
   "cell_type": "code",
   "execution_count": 19,
   "id": "40ebac03-9310-497d-a8a7-f0e6fe3382e0",
   "metadata": {},
   "outputs": [
    {
     "name": "stdout",
     "output_type": "stream",
     "text": [
      "1  2  3  4  5  6  7  8  9  10  "
     ]
    }
   ],
   "source": [
    "for i in range(1,11,1):\n",
    "    print(i, end=\"  \")"
   ]
  },
  {
   "cell_type": "code",
   "execution_count": 20,
   "id": "f4d3aead-1c13-4e70-aaf9-aed052a27a29",
   "metadata": {},
   "outputs": [
    {
     "name": "stdout",
     "output_type": "stream",
     "text": [
      "0  2  4  6  8  10  12  14  16  18  "
     ]
    }
   ],
   "source": [
    "for i in range(0,19,2):\n",
    "    print(i,end=\"  \")"
   ]
  },
  {
   "cell_type": "code",
   "execution_count": 16,
   "id": "6f3736ea-11df-4d3a-a0b6-e7a70bfca4c1",
   "metadata": {},
   "outputs": [
    {
     "name": "stdout",
     "output_type": "stream",
     "text": [
      "5* 1 = 5\n",
      "5* 2 = 10\n",
      "5* 3 = 15\n",
      "5* 4 = 20\n",
      "5* 5 = 25\n",
      "5* 6 = 30\n",
      "5* 7 = 35\n",
      "5* 8 = 40\n",
      "5* 9 = 45\n",
      "5* 10 = 50\n"
     ]
    }
   ],
   "source": [
    "for i in range(1,11,1):\n",
    "    print(\"5*\",i,\"=\",5*i)"
   ]
  },
  {
   "cell_type": "code",
   "execution_count": null,
   "id": "6f083ebb-0c5e-4829-b6b9-c7296d63b2fd",
   "metadata": {},
   "outputs": [],
   "source": [
    "#continue keyword: to skip current iterartion; and execute iteration\n",
    "i=1\n",
    "while i<=10:\n",
    "    if i==5:\n",
    "        i=i+1\n",
    "        continue\n",
    "    print(i)\n",
    "    i=i+1\n",
    "        \n",
    "    \n"
   ]
  },
  {
   "cell_type": "code",
   "execution_count": null,
   "id": "d00d3c1d-1aee-4428-97b1-fbc21ba3bd2c",
   "metadata": {},
   "outputs": [],
   "source": [
    "for i in range(1,11):\n",
    "    if i==5:\n",
    "        continue\n",
    "    print(i)\n",
    "    i=i+1\n",
    "    \n",
    "\n"
   ]
  },
  {
   "cell_type": "code",
   "execution_count": null,
   "id": "7514cfde-35e8-4c92-9191-02b357eee410",
   "metadata": {},
   "outputs": [],
   "source": [
    "for i in range(1,3):\n",
    "    for j in range(i+1):\n",
    "        print(\"*\", end=\" \")\n",
    "    print()    "
   ]
  },
  {
   "cell_type": "code",
   "execution_count": null,
   "id": "1a075254-cdcc-4d78-9688-7502fe0c2369",
   "metadata": {},
   "outputs": [],
   "source": []
  }
 ],
 "metadata": {
  "kernelspec": {
   "display_name": "Python 3 (ipykernel)",
   "language": "python",
   "name": "python3"
  },
  "language_info": {
   "codemirror_mode": {
    "name": "ipython",
    "version": 3
   },
   "file_extension": ".py",
   "mimetype": "text/x-python",
   "name": "python",
   "nbconvert_exporter": "python",
   "pygments_lexer": "ipython3",
   "version": "3.12.5"
  }
 },
 "nbformat": 4,
 "nbformat_minor": 5
}
