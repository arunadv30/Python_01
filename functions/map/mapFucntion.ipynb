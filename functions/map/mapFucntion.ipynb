{
 "cells": [
  {
   "cell_type": "code",
   "execution_count": 7,
   "id": "85df1591-8905-412f-8b39-16dc876bb838",
   "metadata": {},
   "outputs": [
    {
     "name": "stdout",
     "output_type": "stream",
     "text": [
      "<class 'map'>\n",
      "[31, 41, 11]\n"
     ]
    }
   ],
   "source": [
    "def addPlus(marks): \n",
    "    return marks+1\n",
    "\n",
    "marks=[30,40,10]\n",
    "    # map(function,sequence)\n",
    "obj=map(addPlus, marks)\n",
    "print(type(obj))\n",
    "print(list(obj))\n"
   ]
  },
  {
   "cell_type": "code",
   "execution_count": 8,
   "id": "e4af9187-762a-4066-8aa7-dc69f6124c37",
   "metadata": {},
   "outputs": [
    {
     "name": "stdout",
     "output_type": "stream",
     "text": [
      "[31, 41, 11]\n"
     ]
    }
   ],
   "source": [
    "obj=map(lambda   mark:mark+1, marks)\n",
    "print(list(obj))"
   ]
  },
  {
   "cell_type": "code",
   "execution_count": null,
   "id": "24700d14-4f01-4db1-b8a8-87dea33efbe3",
   "metadata": {},
   "outputs": [],
   "source": []
  }
 ],
 "metadata": {
  "kernelspec": {
   "display_name": "Python 3 (ipykernel)",
   "language": "python",
   "name": "python3"
  },
  "language_info": {
   "codemirror_mode": {
    "name": "ipython",
    "version": 3
   },
   "file_extension": ".py",
   "mimetype": "text/x-python",
   "name": "python",
   "nbconvert_exporter": "python",
   "pygments_lexer": "ipython3",
   "version": "3.12.5"
  }
 },
 "nbformat": 4,
 "nbformat_minor": 5
}
