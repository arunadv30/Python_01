{
 "cells": [
  {
   "cell_type": "code",
   "execution_count": 2,
   "id": "86966dee-8a8a-47cb-ac18-5326cbb8b0f3",
   "metadata": {},
   "outputs": [
    {
     "name": "stdout",
     "output_type": "stream",
     "text": [
      "GM\n"
     ]
    },
    {
     "ename": "NameError",
     "evalue": "name 'inner' is not defined",
     "output_type": "error",
     "traceback": [
      "\u001b[1;31m---------------------------------------------------------------------------\u001b[0m",
      "\u001b[1;31mNameError\u001b[0m                                 Traceback (most recent call last)",
      "Cell \u001b[1;32mIn[2], line 7\u001b[0m\n\u001b[0;32m      4\u001b[0m         \u001b[38;5;28mprint\u001b[39m(\u001b[38;5;124m'\u001b[39m\u001b[38;5;124mGA\u001b[39m\u001b[38;5;124m'\u001b[39m)\n\u001b[0;32m      6\u001b[0m outer()\n\u001b[1;32m----> 7\u001b[0m \u001b[43minner\u001b[49m()\n",
      "\u001b[1;31mNameError\u001b[0m: name 'inner' is not defined"
     ]
    }
   ],
   "source": [
    "def outer():\n",
    "    print('GM')\n",
    "    def inner():\n",
    "        print('GA')\n",
    "\n",
    "outer()\n",
    "inner()"
   ]
  },
  {
   "cell_type": "code",
   "execution_count": 11,
   "id": "b4533f84-ab65-4356-8995-e4d9e5f47a5f",
   "metadata": {},
   "outputs": [
    {
     "name": "stdout",
     "output_type": "stream",
     "text": [
      "outer function\n",
      "Inner funtion\n",
      "Inner funtion\n"
     ]
    }
   ],
   "source": [
    "def outer():\n",
    "    print('outer function')\n",
    "    def inner():\n",
    "        print('Inner funtion')\n",
    "    inner()\n",
    "    inner()\n",
    "\n",
    "outer()"
   ]
  },
  {
   "cell_type": "code",
   "execution_count": 14,
   "id": "6762a979-42dd-4d2e-905e-453d69c30f0e",
   "metadata": {},
   "outputs": [
    {
     "name": "stdout",
     "output_type": "stream",
     "text": [
      "Outer Function\n",
      "Inner Function\n",
      "Inner Function\n"
     ]
    }
   ],
   "source": [
    "def outer():\n",
    "    print('Outer Function')\n",
    "    \n",
    "    def inner():\n",
    "        print('Inner Function')\n",
    "        \n",
    "    return inner\n",
    "\n",
    "inner=outer()\n",
    "inner()\n",
    "inner()"
   ]
  },
  {
   "cell_type": "code",
   "execution_count": null,
   "id": "004a400e-b70b-46fa-bcda-965fa2094a3e",
   "metadata": {},
   "outputs": [],
   "source": []
  }
 ],
 "metadata": {
  "kernelspec": {
   "display_name": "Python 3 (ipykernel)",
   "language": "python",
   "name": "python3"
  },
  "language_info": {
   "codemirror_mode": {
    "name": "ipython",
    "version": 3
   },
   "file_extension": ".py",
   "mimetype": "text/x-python",
   "name": "python",
   "nbconvert_exporter": "python",
   "pygments_lexer": "ipython3",
   "version": "3.12.5"
  }
 },
 "nbformat": 4,
 "nbformat_minor": 5
}
