{
 "cells": [
  {
   "cell_type": "code",
   "execution_count": 1,
   "id": "824fcee2-ddf0-4cc3-97f6-c71b25f4c078",
   "metadata": {},
   "outputs": [
    {
     "name": "stdout",
     "output_type": "stream",
     "text": [
      "101\n"
     ]
    }
   ],
   "source": [
    "def add(x):\n",
    "    return x+1\n",
    "\n",
    "r1=add(100)\n",
    "print(r1)"
   ]
  },
  {
   "cell_type": "code",
   "execution_count": 7,
   "id": "07db5d97-5285-49da-8a79-8a19528f39d7",
   "metadata": {},
   "outputs": [
    {
     "name": "stdout",
     "output_type": "stream",
     "text": [
      "<class 'function'>\n",
      "101\n"
     ]
    }
   ],
   "source": [
    "x=lambda x : x+1\n",
    "\n",
    "print(type(x))\n",
    "r1=x(100)\n",
    "print(r1)"
   ]
  },
  {
   "cell_type": "code",
   "execution_count": 5,
   "id": "344ee67b-7a4d-4754-b362-4eb04a7f7d9d",
   "metadata": {},
   "outputs": [
    {
     "name": "stdout",
     "output_type": "stream",
     "text": [
      "101\n"
     ]
    }
   ],
   "source": [
    "x=lambda x : x+1\n",
    "\n",
    "print(x(100))"
   ]
  },
  {
   "cell_type": "code",
   "execution_count": 8,
   "id": "804d4257-fce8-46d7-9aaa-d9cd8c194bb3",
   "metadata": {},
   "outputs": [
    {
     "name": "stdout",
     "output_type": "stream",
     "text": [
      "30\n"
     ]
    }
   ],
   "source": [
    "add=lambda a,b:a+b\n",
    "\n",
    "r1=add(10,20)\n",
    "print(r1)"
   ]
  },
  {
   "cell_type": "code",
   "execution_count": null,
   "id": "46f21710-2e4d-4ff5-9633-3cced9db7e52",
   "metadata": {},
   "outputs": [],
   "source": []
  }
 ],
 "metadata": {
  "kernelspec": {
   "display_name": "Python 3 (ipykernel)",
   "language": "python",
   "name": "python3"
  },
  "language_info": {
   "codemirror_mode": {
    "name": "ipython",
    "version": 3
   },
   "file_extension": ".py",
   "mimetype": "text/x-python",
   "name": "python",
   "nbconvert_exporter": "python",
   "pygments_lexer": "ipython3",
   "version": "3.12.5"
  }
 },
 "nbformat": 4,
 "nbformat_minor": 5
}
