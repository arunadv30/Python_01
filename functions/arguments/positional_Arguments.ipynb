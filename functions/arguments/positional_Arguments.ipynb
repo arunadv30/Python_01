{
 "cells": [
  {
   "cell_type": "code",
   "execution_count": 1,
   "id": "ee369da3-a780-48a9-a063-ef3abcf667d9",
   "metadata": {},
   "outputs": [
    {
     "name": "stdout",
     "output_type": "stream",
     "text": [
      "300\n"
     ]
    }
   ],
   "source": [
    "def calc(a,b):\n",
    "    print(a+b)\n",
    "\n",
    "calc(100,200)"
   ]
  },
  {
   "cell_type": "code",
   "execution_count": 3,
   "id": "9ad02c5c-1d32-4094-9b00-8b1c3978156d",
   "metadata": {},
   "outputs": [
    {
     "name": "stdout",
     "output_type": "stream",
     "text": [
      "-100\n"
     ]
    }
   ],
   "source": [
    "def calc(a,b):\n",
    "    print(a-b)\n",
    "\n",
    "calc(100,200)"
   ]
  },
  {
   "cell_type": "code",
   "execution_count": 6,
   "id": "2686e0a0-de64-40bf-853f-a89796146494",
   "metadata": {},
   "outputs": [
    {
     "name": "stdout",
     "output_type": "stream",
     "text": [
      "100\n"
     ]
    }
   ],
   "source": [
    "def calc(b,a): #changing postions will result different values\n",
    "    print(a-b)\n",
    "\n",
    "calc(100,200)"
   ]
  },
  {
   "cell_type": "code",
   "execution_count": null,
   "id": "1ff8223f-7613-4568-a85f-0a8c2b846533",
   "metadata": {},
   "outputs": [],
   "source": []
  }
 ],
 "metadata": {
  "kernelspec": {
   "display_name": "Python 3 (ipykernel)",
   "language": "python",
   "name": "python3"
  },
  "language_info": {
   "codemirror_mode": {
    "name": "ipython",
    "version": 3
   },
   "file_extension": ".py",
   "mimetype": "text/x-python",
   "name": "python",
   "nbconvert_exporter": "python",
   "pygments_lexer": "ipython3",
   "version": "3.12.5"
  }
 },
 "nbformat": 4,
 "nbformat_minor": 5
}
