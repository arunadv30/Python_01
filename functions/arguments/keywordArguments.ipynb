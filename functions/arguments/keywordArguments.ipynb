{
 "cells": [
  {
   "cell_type": "code",
   "execution_count": 2,
   "id": "41788c6e-873f-4a02-ac1d-fd3e15b0faa0",
   "metadata": {},
   "outputs": [
    {
     "name": "stdout",
     "output_type": "stream",
     "text": [
      "-100\n",
      "-100\n"
     ]
    }
   ],
   "source": [
    "def calc(a,b):\n",
    "    print(a-b)\n",
    "\n",
    "calc(a=100, b=200)\n",
    "calc(b=200, a=100)"
   ]
  },
  {
   "cell_type": "code",
   "execution_count": null,
   "id": "4667a691-cf35-4eae-8dbd-27be3318ca54",
   "metadata": {},
   "outputs": [],
   "source": []
  }
 ],
 "metadata": {
  "kernelspec": {
   "display_name": "Python 3 (ipykernel)",
   "language": "python",
   "name": "python3"
  },
  "language_info": {
   "codemirror_mode": {
    "name": "ipython",
    "version": 3
   },
   "file_extension": ".py",
   "mimetype": "text/x-python",
   "name": "python",
   "nbconvert_exporter": "python",
   "pygments_lexer": "ipython3",
   "version": "3.12.5"
  }
 },
 "nbformat": 4,
 "nbformat_minor": 5
}
