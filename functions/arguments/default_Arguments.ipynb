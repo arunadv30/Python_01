{
 "cells": [
  {
   "cell_type": "code",
   "execution_count": 3,
   "id": "4dbd05b6-591c-481a-b5d9-031403181949",
   "metadata": {},
   "outputs": [
    {
     "name": "stdout",
     "output_type": "stream",
     "text": [
      "60\n",
      "31\n",
      "4\n"
     ]
    }
   ],
   "source": [
    "def calc(a,b,c=1): # c=1 is a default value\n",
    "    print(a+b+c)\n",
    "\n",
    "calc(10,20,30)\n",
    "calc(10,20)\n",
    "calc(1,2)"
   ]
  },
  {
   "cell_type": "code",
   "execution_count": null,
   "id": "7628dc1c-4fee-4ca2-a124-73fed675e048",
   "metadata": {},
   "outputs": [],
   "source": []
  }
 ],
 "metadata": {
  "kernelspec": {
   "display_name": "Python 3 (ipykernel)",
   "language": "python",
   "name": "python3"
  },
  "language_info": {
   "codemirror_mode": {
    "name": "ipython",
    "version": 3
   },
   "file_extension": ".py",
   "mimetype": "text/x-python",
   "name": "python",
   "nbconvert_exporter": "python",
   "pygments_lexer": "ipython3",
   "version": "3.12.5"
  }
 },
 "nbformat": 4,
 "nbformat_minor": 5
}
