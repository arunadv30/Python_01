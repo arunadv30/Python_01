{
 "cells": [
  {
   "cell_type": "code",
   "execution_count": 3,
   "id": "07de8046-8a82-4dfe-b32a-da715e86291a",
   "metadata": {},
   "outputs": [
    {
     "name": "stdout",
     "output_type": "stream",
     "text": [
      "[101, 102, 103, 104, 105, 106]\n"
     ]
    }
   ],
   "source": [
    "#append adds the ele at the end\n",
    "eids=[101,102,103,104,105]\n",
    "eids.append(106)\n",
    "print(eids)"
   ]
  },
  {
   "cell_type": "code",
   "execution_count": 6,
   "id": "001c9b14-d5da-48b2-9fa4-14b93b1eb985",
   "metadata": {},
   "outputs": [
    {
     "name": "stdout",
     "output_type": "stream",
     "text": [
      "[10, 15, 20, 30, 40]\n"
     ]
    }
   ],
   "source": [
    "#add ele at specified index\n",
    "l1=[10,20,30,40]\n",
    "l1.insert(1,15)\n",
    "print(l1)"
   ]
  },
  {
   "cell_type": "code",
   "execution_count": 7,
   "id": "792fff34-eaaf-4633-b211-0ac17c58c5aa",
   "metadata": {},
   "outputs": [
    {
     "name": "stdout",
     "output_type": "stream",
     "text": [
      "[10, 15, 30, 40]\n"
     ]
    }
   ],
   "source": [
    "#updating the list ele/value at specified index\n",
    "l1=[10,20,30,40]\n",
    "l1[1]=15\n",
    "print(l1)\n"
   ]
  },
  {
   "cell_type": "code",
   "execution_count": 11,
   "id": "2cbef34e-a4f2-436f-a9f3-1cfb6fc46a89",
   "metadata": {},
   "outputs": [
    {
     "name": "stdout",
     "output_type": "stream",
     "text": [
      "[10, 20, 30, 40, 50, 60]\n"
     ]
    }
   ],
   "source": [
    "#l1.extend(l2)\n",
    "l1=[10,20,30]\n",
    "l2=[40,50,60]\n",
    "l1.extend(l2)\n",
    "print(l1)"
   ]
  },
  {
   "cell_type": "code",
   "execution_count": 12,
   "id": "492c852b-2745-49aa-8be8-c86a2699c4d9",
   "metadata": {},
   "outputs": [
    {
     "ename": "IndexError",
     "evalue": "list assignment index out of range",
     "output_type": "error",
     "traceback": [
      "\u001b[1;31m---------------------------------------------------------------------------\u001b[0m",
      "\u001b[1;31mIndexError\u001b[0m                                Traceback (most recent call last)",
      "Cell \u001b[1;32mIn[12], line 2\u001b[0m\n\u001b[0;32m      1\u001b[0m enames\u001b[38;5;241m=\u001b[39m[\u001b[38;5;124m'\u001b[39m\u001b[38;5;124mRahul\u001b[39m\u001b[38;5;124m'\u001b[39m,\u001b[38;5;124m'\u001b[39m\u001b[38;5;124mSonia\u001b[39m\u001b[38;5;124m'\u001b[39m,\u001b[38;5;124m'\u001b[39m\u001b[38;5;124mPriyanka\u001b[39m\u001b[38;5;124m'\u001b[39m]\n\u001b[1;32m----> 2\u001b[0m \u001b[43menames\u001b[49m\u001b[43m[\u001b[49m\u001b[38;5;241;43m300\u001b[39;49m\u001b[43m]\u001b[49m\u001b[38;5;241m=\u001b[39m\u001b[38;5;124m\"\u001b[39m\u001b[38;5;124mModi\u001b[39m\u001b[38;5;124m\"\u001b[39m\n\u001b[0;32m      3\u001b[0m \u001b[38;5;28mprint\u001b[39m(enames)\n",
      "\u001b[1;31mIndexError\u001b[0m: list assignment index out of range"
     ]
    }
   ],
   "source": [
    "enames=['Rahul','Sonia','Priyanka']\n",
    "enames[300]=\"Modi\"\n",
    "print(enames)"
   ]
  },
  {
   "cell_type": "code",
   "execution_count": 13,
   "id": "52095893-caa2-49d1-90c9-b34312e602fa",
   "metadata": {},
   "outputs": [
    {
     "name": "stdout",
     "output_type": "stream",
     "text": [
      "['Rahul', 'Sonia', 'Priyanka', 'Modi']\n"
     ]
    }
   ],
   "source": [
    "enames=['Rahul','Sonia','Priyanka']\n",
    "#enames[300]=\"Modi\"\n",
    "enames.insert(300,\"Modi\")\n",
    "print(enames)"
   ]
  },
  {
   "cell_type": "code",
   "execution_count": 14,
   "id": "818b1690-f378-4042-b208-690a527aca7b",
   "metadata": {},
   "outputs": [
    {
     "name": "stdout",
     "output_type": "stream",
     "text": [
      "[10, 20, 30, 40, 50, 60]\n"
     ]
    }
   ],
   "source": [
    "l1=[10,20,30]\n",
    "l2=[40,50,60]\n",
    "l1.extend(l2)\n",
    "print(l1)"
   ]
  },
  {
   "cell_type": "code",
   "execution_count": 22,
   "id": "391470af-945e-43a9-a8eb-9103313cf940",
   "metadata": {},
   "outputs": [
    {
     "name": "stdout",
     "output_type": "stream",
     "text": [
      "[101, 102, 103]\n",
      "[101, 102]\n"
     ]
    }
   ],
   "source": [
    "eids=[101,102,103,104]\n",
    "x=eids.pop()\n",
    "print(eids)\n",
    "eids.remove(103)\n",
    "print(eids)"
   ]
  },
  {
   "cell_type": "code",
   "execution_count": 23,
   "id": "f451f2de-bae3-4a14-aa07-9e60edef3a40",
   "metadata": {},
   "outputs": [
    {
     "name": "stdout",
     "output_type": "stream",
     "text": [
      "[]\n"
     ]
    }
   ],
   "source": [
    "#clear() deletes all \n",
    "eids=[101.102,103,104]\n",
    "eids.clear()\n",
    "print(eids)"
   ]
  },
  {
   "cell_type": "code",
   "execution_count": 24,
   "id": "7e5b430d-cf9d-4f64-8946-2bef44425e0e",
   "metadata": {},
   "outputs": [],
   "source": [
    "#list ds read opearations- methods\n",
    "#list.index()\n",
    "#list.reverse()\n",
    "#list.sort()\n",
    "#list.count()\n"
   ]
  },
  {
   "cell_type": "code",
   "execution_count": 25,
   "id": "093d4f43-76c4-41ec-bfa1-7e2f253fb8d9",
   "metadata": {},
   "outputs": [
    {
     "name": "stdout",
     "output_type": "stream",
     "text": [
      "['Modi', 'Raul', 'Sonia', 'priyanka']\n"
     ]
    }
   ],
   "source": [
    "enames=['Raul','Sonia','priyanka','Modi']\n",
    "enames.sort() #asecending order\n",
    "print(enames)"
   ]
  },
  {
   "cell_type": "code",
   "execution_count": 26,
   "id": "d50f934c-087b-4550-8645-8c5916564921",
   "metadata": {},
   "outputs": [
    {
     "name": "stdout",
     "output_type": "stream",
     "text": [
      "['priyanka', 'Sonia', 'Raul', 'Modi']\n"
     ]
    }
   ],
   "source": [
    "enames=['Raul','Sonia','priyanka','Modi']\n",
    "enames.sort(reverse=True)  #descending order\n",
    "print(enames)\n"
   ]
  },
  {
   "cell_type": "code",
   "execution_count": 27,
   "id": "0f51800d-d759-4d61-a26e-55f58f970289",
   "metadata": {},
   "outputs": [
    {
     "ename": "AttributeError",
     "evalue": "'list' object has no attribute 'cont'",
     "output_type": "error",
     "traceback": [
      "\u001b[1;31m---------------------------------------------------------------------------\u001b[0m",
      "\u001b[1;31mAttributeError\u001b[0m                            Traceback (most recent call last)",
      "Cell \u001b[1;32mIn[27], line 2\u001b[0m\n\u001b[0;32m      1\u001b[0m l1\u001b[38;5;241m=\u001b[39m[\u001b[38;5;241m10\u001b[39m,\u001b[38;5;241m20\u001b[39m,\u001b[38;5;241m3\u001b[39m,\u001b[38;5;241m40\u001b[39m]\n\u001b[1;32m----> 2\u001b[0m \u001b[43ml1\u001b[49m\u001b[38;5;241;43m.\u001b[39;49m\u001b[43mcont\u001b[49m(\u001b[38;5;241m10\u001b[39m)\n",
      "\u001b[1;31mAttributeError\u001b[0m: 'list' object has no attribute 'cont'"
     ]
    }
   ],
   "source": [
    "l1=[10,20,3,40]\n",
    "l1.cont(10)"
   ]
  },
  {
   "cell_type": "code",
   "execution_count": 34,
   "id": "4819588c-cd48-41b9-aaaf-b746ee6b9fe8",
   "metadata": {},
   "outputs": [
    {
     "name": "stdout",
     "output_type": "stream",
     "text": [
      "2337508956992\n",
      "140705635240728\n"
     ]
    }
   ],
   "source": [
    "l1=[4,5,6,7]\n",
    "l2=l1.copy() #clones\n",
    "print(id(l1))\n",
    "print(id(12))\n"
   ]
  },
  {
   "cell_type": "code",
   "execution_count": 35,
   "id": "d4425a33-1c93-4a46-8894-a70f518af09b",
   "metadata": {},
   "outputs": [
    {
     "name": "stdout",
     "output_type": "stream",
     "text": [
      "2337508972608\n",
      "140705635240728\n"
     ]
    }
   ],
   "source": [
    "l1=[4,5,6,7]\n",
    "l2=l1\n",
    "print(id(l1))\n",
    "print(id(12))"
   ]
  },
  {
   "cell_type": "code",
   "execution_count": null,
   "id": "540ad7bd-fe32-4315-8eb8-cb63f02b8e86",
   "metadata": {},
   "outputs": [],
   "source": []
  }
 ],
 "metadata": {
  "kernelspec": {
   "display_name": "Python 3 (ipykernel)",
   "language": "python",
   "name": "python3"
  },
  "language_info": {
   "codemirror_mode": {
    "name": "ipython",
    "version": 3
   },
   "file_extension": ".py",
   "mimetype": "text/x-python",
   "name": "python",
   "nbconvert_exporter": "python",
   "pygments_lexer": "ipython3",
   "version": "3.12.5"
  }
 },
 "nbformat": 4,
 "nbformat_minor": 5
}
