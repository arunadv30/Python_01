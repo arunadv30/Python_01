{
 "cells": [
  {
   "cell_type": "code",
   "execution_count": 1,
   "id": "1965096f-5756-4a66-ad9e-3c82f30fbb86",
   "metadata": {},
   "outputs": [
    {
     "name": "stdout",
     "output_type": "stream",
     "text": [
      "<class 'dict'>\n"
     ]
    }
   ],
   "source": [
    "d={}\n",
    "print(type(d))"
   ]
  },
  {
   "cell_type": "code",
   "execution_count": 5,
   "id": "1499d8b4-1e5d-42d3-af1b-eb566bb8aa0e",
   "metadata": {},
   "outputs": [
    {
     "name": "stdout",
     "output_type": "stream",
     "text": [
      "{'eid': 101, 'ename': 'Rahul', 'esal': 45000.45, 'avail': True}\n"
     ]
    }
   ],
   "source": [
    "emp = {\n",
    "    'eid':101,\n",
    "    'ename':'Rahul',\n",
    "    'esal':45000.45,\n",
    "    'avail':True\n",
    "}\n",
    "print(emp)"
   ]
  },
  {
   "cell_type": "code",
   "execution_count": 8,
   "id": "fb891a30-021a-40d4-aa6f-c31b71a21d40",
   "metadata": {},
   "outputs": [
    {
     "name": "stdout",
     "output_type": "stream",
     "text": [
      "{'eid': 102, 'ename': 'Rahul', 'esal': 45000.45, 'avail': True}\n"
     ]
    }
   ],
   "source": [
    "emp = {\n",
    "    'eid':101,\n",
    "    'eid':102,\n",
    "    'ename':'Rahul',\n",
    "    'esal':45000.45,\n",
    "    'avail':True\n",
    "}\n",
    "print(emp)"
   ]
  },
  {
   "cell_type": "code",
   "execution_count": 12,
   "id": "fda3d1e0-c30f-420f-a697-f6cf6461dc26",
   "metadata": {},
   "outputs": [
    {
     "name": "stdout",
     "output_type": "stream",
     "text": [
      "101\n"
     ]
    }
   ],
   "source": [
    "emp = {   \n",
    "    'eid':101,\n",
    "    'ename':'Rahul',\n",
    "    'esal':45000.92,\n",
    "    'avail':True\n",
    "}\n",
    "print(emp['eid'])"
   ]
  },
  {
   "cell_type": "code",
   "execution_count": 16,
   "id": "c643fda0-3885-497c-ab27-9a0216f6eb4b",
   "metadata": {},
   "outputs": [
    {
     "name": "stdout",
     "output_type": "stream",
     "text": [
      "101\n",
      "Rahul\n",
      "45000.92\n",
      "True\n"
     ]
    }
   ],
   "source": [
    "emp = {   \n",
    "    'eid':101,\n",
    "    'ename':'Rahul',\n",
    "    'esal':45000.92,\n",
    "    'avail':True\n",
    "}\n",
    "print(emp['eid'])\n",
    "print(emp['ename'])\n",
    "print(emp['esal'])\n",
    "print(emp['avail'])        "
   ]
  },
  {
   "cell_type": "code",
   "execution_count": 18,
   "id": "5c3e96c0-1fdf-405b-8919-b71bf1d5ff35",
   "metadata": {},
   "outputs": [
    {
     "name": "stdout",
     "output_type": "stream",
     "text": [
      "101\n"
     ]
    }
   ],
   "source": [
    "emp = {   \n",
    "    'eid':101,\n",
    "    'ename':'Rahul',\n",
    "    'esal':45000.92,\n",
    "    'avail':True\n",
    "}\n",
    "print(emp.get('eid'))"
   ]
  },
  {
   "cell_type": "code",
   "execution_count": 20,
   "id": "778b2def-3a95-4586-bd5d-4de819e1dfe2",
   "metadata": {},
   "outputs": [
    {
     "name": "stdout",
     "output_type": "stream",
     "text": [
      "eid\n",
      "ename\n",
      "esal\n",
      "avail\n"
     ]
    }
   ],
   "source": [
    "emp = {   \n",
    "    'eid':101,\n",
    "    'ename':'Rahul',\n",
    "    'esal':45000.92,\n",
    "    'avail':True\n",
    "}\n",
    "\n",
    "for key in emp.keys():\n",
    "    print(key)\n"
   ]
  },
  {
   "cell_type": "code",
   "execution_count": 23,
   "id": "25409e7c-0701-4efa-9794-545d418e3a2d",
   "metadata": {},
   "outputs": [
    {
     "name": "stdout",
     "output_type": "stream",
     "text": [
      "101\n",
      "Rahul\n",
      "45000.92\n",
      "True\n"
     ]
    }
   ],
   "source": [
    "emp = {   \n",
    "    'eid':101,\n",
    "    'ename':'Rahul',\n",
    "    'esal':45000.92,\n",
    "    'avail':True\n",
    "}\n",
    "\n",
    "for value in emp.values():\n",
    "    print(value)"
   ]
  },
  {
   "cell_type": "code",
   "execution_count": 25,
   "id": "0a3a4dfc-e304-4c02-810b-2ee0f4f07831",
   "metadata": {},
   "outputs": [
    {
     "name": "stdout",
     "output_type": "stream",
     "text": [
      "eid 101\n",
      "ename Rahul\n",
      "esal 45000.92\n",
      "avail True\n"
     ]
    }
   ],
   "source": [
    "emp = {   \n",
    "    'eid':101,\n",
    "    'ename':'Rahul',\n",
    "    'esal':45000.92,\n",
    "    'avail':True\n",
    "}\n",
    "\n",
    "for key,value in emp.items():\n",
    "    print(key,value)"
   ]
  },
  {
   "cell_type": "code",
   "execution_count": null,
   "id": "027dc1ea-e072-4a6d-9e54-f42614938068",
   "metadata": {},
   "outputs": [],
   "source": []
  }
 ],
 "metadata": {
  "kernelspec": {
   "display_name": "Python 3 (ipykernel)",
   "language": "python",
   "name": "python3"
  },
  "language_info": {
   "codemirror_mode": {
    "name": "ipython",
    "version": 3
   },
   "file_extension": ".py",
   "mimetype": "text/x-python",
   "name": "python",
   "nbconvert_exporter": "python",
   "pygments_lexer": "ipython3",
   "version": "3.12.5"
  }
 },
 "nbformat": 4,
 "nbformat_minor": 5
}
