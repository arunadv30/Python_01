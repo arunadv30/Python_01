{
 "cells": [
  {
   "cell_type": "code",
   "execution_count": 4,
   "id": "23379841-ce85-46f2-b560-d4df640aba6b",
   "metadata": {},
   "outputs": [
    {
     "name": "stdout",
     "output_type": "stream",
     "text": [
      "{'eid': 10, 'ename': 'Rahul', 'esal': 45000}\n",
      "<class 'dict'>\n"
     ]
    }
   ],
   "source": [
    "#create\n",
    "emp={\n",
    "    'eid': 10,\n",
    "    'ename': 'Rahul',\n",
    "    'esal': 45000\n",
    "}\n",
    "print(emp)\n",
    "print(type(emp))"
   ]
  },
  {
   "cell_type": "code",
   "execution_count": 7,
   "id": "14494496-d76c-47fb-98e0-72d82cc9aa9f",
   "metadata": {},
   "outputs": [
    {
     "name": "stdout",
     "output_type": "stream",
     "text": [
      "10\n",
      "10\n"
     ]
    }
   ],
   "source": [
    "#how to access read dict values\n",
    "emp={\n",
    "    'eid': 10,\n",
    "    'ename': 'Rahul',\n",
    "    'esal': 45000\n",
    "}\n",
    "print(emp['eid'])\n",
    "print(emp.get('eid')) #return value at specified key"
   ]
  },
  {
   "cell_type": "code",
   "execution_count": 15,
   "id": "991f14a5-a962-4dc5-a831-4cfaa7a8109b",
   "metadata": {},
   "outputs": [
    {
     "name": "stdout",
     "output_type": "stream",
     "text": [
      "dict_keys(['eid', 'ename', 'esal'])\n",
      "<class 'dict_keys'>\n",
      "dict_values([10, 'Rahul', 45000])\n",
      "<class 'dict_values'>\n",
      "dict_items([('eid', 10), ('ename', 'Rahul'), ('esal', 45000)])\n"
     ]
    }
   ],
   "source": [
    "emp={\n",
    "    'eid': 10,\n",
    "    'ename': 'Rahul',\n",
    "    'esal': 45000\n",
    "}\n",
    "print(emp.keys())\n",
    "print(type(emp.keys()))\n",
    "print(emp.values())\n",
    "print(type(emp.values()))\n",
    "print(emp.items())"
   ]
  },
  {
   "cell_type": "code",
   "execution_count": 22,
   "id": "16ad9902-84d7-402b-a842-0b1cefdb1637",
   "metadata": {},
   "outputs": [
    {
     "name": "stdout",
     "output_type": "stream",
     "text": [
      "eid\n",
      "ename\n",
      "esal\n",
      "*********\n",
      "10\n",
      "Rahul\n",
      "45000\n",
      "eid : 10\n",
      "ename : Rahul\n",
      "esal : 45000\n"
     ]
    }
   ],
   "source": [
    "emp={\n",
    "    'eid': 10,\n",
    "    'ename': 'Rahul',\n",
    "    'esal': 45000\n",
    "}\n",
    "for key in emp.keys():\n",
    "    print(key)\n",
    "\n",
    "print(\"*********\")\n",
    "\n",
    "for value in emp.values():\n",
    "    print(value)\n",
    "\n",
    "for key,value in emp.items():\n",
    "    print(key,\":\",value)\n"
   ]
  },
  {
   "cell_type": "code",
   "execution_count": 23,
   "id": "0182ae54-2b24-4b3e-b363-06f0ccee6713",
   "metadata": {},
   "outputs": [
    {
     "name": "stdout",
     "output_type": "stream",
     "text": [
      "{'name': 'Rahul Gandhi'}\n"
     ]
    }
   ],
   "source": [
    "emp={}\n",
    "emp['name']='Rahul'\n",
    "emp['name']='Rahul Gandhi'\n",
    "print(emp)"
   ]
  },
  {
   "cell_type": "code",
   "execution_count": 26,
   "id": "07b13946-a251-4ba8-a9b7-e023021aaac9",
   "metadata": {},
   "outputs": [
    {
     "name": "stdout",
     "output_type": "stream",
     "text": [
      "{'name': 'Rahul Gandhi'}\n",
      "{'name': 'Rahul Gandhi', 'eid': 101}\n"
     ]
    }
   ],
   "source": [
    "emp={'name':'Rahul Gandhi'}\n",
    "print(emp)\n",
    "emp.update({'eid':101})\n",
    "print(emp)"
   ]
  },
  {
   "cell_type": "code",
   "execution_count": 27,
   "id": "a0cd6867-761c-4529-8ec3-8a2b4163aa71",
   "metadata": {},
   "outputs": [
    {
     "name": "stdout",
     "output_type": "stream",
     "text": [
      "102\n",
      "{'id': 101, 'extra_id': 102}\n"
     ]
    }
   ],
   "source": [
    "emp={ 'id':101 } \n",
    "value = emp.setdefault('extra_id',102) \n",
    "print(value) \n",
    "print(emp)"
   ]
  },
  {
   "cell_type": "code",
   "execution_count": 29,
   "id": "850de536-3b22-43a5-bbbe-4b7572b1a722",
   "metadata": {},
   "outputs": [
    {
     "name": "stdout",
     "output_type": "stream",
     "text": [
      "{'ename': 'Rahul', 'esal': 45000}\n"
     ]
    }
   ],
   "source": [
    "emp={\n",
    "    'eid': 10,\n",
    "    'ename': 'Rahul',\n",
    "    'esal': 45000\n",
    "}\n",
    "\n",
    "emp.pop('eid') # removes specified key and associated value\n",
    "print(emp)"
   ]
  },
  {
   "cell_type": "code",
   "execution_count": 30,
   "id": "2cfc40ce-61ba-4731-9c1c-baaef87bd92e",
   "metadata": {},
   "outputs": [
    {
     "name": "stdout",
     "output_type": "stream",
     "text": [
      "{'eid': 10, 'ename': 'Rahul'}\n"
     ]
    }
   ],
   "source": [
    "emp={\n",
    "    'eid': 10,\n",
    "    'ename': 'Rahul',\n",
    "    'esal': 45000\n",
    "}\n",
    "emp.popitem() #removes last key and its value\n",
    "print(emp)"
   ]
  },
  {
   "cell_type": "code",
   "execution_count": 31,
   "id": "00da7c47-7c06-47f1-ab79-6bab64143a14",
   "metadata": {},
   "outputs": [
    {
     "name": "stdout",
     "output_type": "stream",
     "text": [
      "{}\n"
     ]
    }
   ],
   "source": [
    "emp={\n",
    "    'eid': 10,\n",
    "    'ename': 'Rahul',\n",
    "    'esal': 45000\n",
    "}\n",
    "emp.clear() # removes completely\n",
    "print(emp)"
   ]
  },
  {
   "cell_type": "code",
   "execution_count": 38,
   "id": "dbba2f37-f622-416d-826d-1805fe055f2b",
   "metadata": {},
   "outputs": [
    {
     "name": "stdout",
     "output_type": "stream",
     "text": [
      "Nixie\n",
      "Joyce\n",
      "Barron\n",
      "Claudie\n",
      "Damiano\n",
      "Maxi\n",
      "Augusta\n",
      "Trixy\n",
      "Karalee\n",
      "Jodee\n",
      "Johnath\n",
      "Delmer\n",
      "Penny\n",
      "Regina\n",
      "Vanni\n",
      "Salomone\n",
      "Ailene\n",
      "Dane\n",
      "Marietta\n",
      "Becky\n",
      "Aldwin\n",
      "Claiborn\n",
      "Isa\n",
      "Pooh\n",
      "Arielle\n",
      "Gerry\n",
      "Richmound\n",
      "Vinnie\n",
      "Barret\n",
      "Matthias\n",
      "Carlotta\n",
      "Lyell\n",
      "Chester\n",
      "Sanson\n",
      "Rancell\n",
      "Gerek\n",
      "Waverley\n",
      "Valene\n",
      "Jeannette\n",
      "Larry\n",
      "Sherwynd\n",
      "June\n",
      "Hi\n",
      "Virgie\n",
      "Rosamond\n",
      "Elaina\n",
      "Mable\n",
      "Wash\n",
      "Herman\n",
      "Dee dee\n"
     ]
    }
   ],
   "source": [
    "users=[{'eid':1,'ename':'Nixie','email':'nmacquist0@walmart.com','gender':'Female'},\n",
    "{'eid':2,'ename':'Joyce','email':'jnoell1@earthlink.net','gender':'Female'},\n",
    "{'eid':3,'ename':'Barron','email':'bmccullen2@senate.gov','gender':'Male'},\n",
    "{'eid':4,'ename':'Claudie','email':'cwale3@reverbnation.com','gender':'Female'},\n",
    "{'eid':5,'ename':'Damiano','email':'dbourley4@cdbaby.com','gender':'Non-binary'},\n",
    "{'eid':6,'ename':'Maxi','email':'mmanuely5@miitbeian.gov.cn','gender':'Female'},\n",
    "{'eid':7,'ename':'Augusta','email':'ahanham6@163.com','gender':'Female'},\n",
    "{'eid':8,'ename':'Trixy','email':'tstockney7@examiner.com','gender':'Female'},\n",
    "{'eid':9,'ename':'Karalee','email':'kimpson8@amazon.co.uk','gender':'Female'},\n",
    "{'eid':10,'ename':'Jodee','email':'jpresidey9@sohu.com','gender':'Female'},\n",
    "{'eid':11,'ename':'Johnath','email':'jpaintera@telegraph.co.uk','gender':'Female'},\n",
    "{'eid':12,'ename':'Delmer','email':'dgeppb@bloglovin.com','gender':'Male'},\n",
    "{'eid':13,'ename':'Penny','email':'pcollenc@nba.com','gender':'Male'},\n",
    "{'eid':14,'ename':'Regina','email':'rtunnockd@squidoo.com','gender':'Genderqueer'},\n",
    "{'eid':15,'ename':'Vanni','email':'vhaslocke@cocolog-nifty.com','gender':'Female'},\n",
    "{'eid':16,'ename':'Salomone','email':'slabordef@behance.net','gender':'Male'},\n",
    "{'eid':17,'ename':'Ailene','email':'akobschg@tiny.cc','gender':'Genderfluid'},\n",
    "{'eid':18,'ename':'Dane','email':'drappah@cnn.com','gender':'Male'},\n",
    "{'eid':19,'ename':'Marietta','email':'mkinetoni@alibaba.com','gender':'Female'},\n",
    "{'eid':20,'ename':'Becky','email':'blowethj@google.de','gender':'Non-binary'},\n",
    "{'eid':21,'ename':'Aldwin','email':'acanonk@google.co.jp','gender':'Male'},\n",
    "{'eid':22,'ename':'Claiborn','email':'crhymerl@ow.ly','gender':'Male'},\n",
    "{'eid':23,'ename':'Isa','email':'iberndtssenm@yahoo.com','gender':'Male'},\n",
    "{'eid':24,'ename':'Pooh','email':'pwittmann@google.co.jp','gender':'Male'},\n",
    "{'eid':25,'ename':'Arielle','email':'apinchino@163.com','gender':'Genderfluid'},\n",
    "{'eid':26,'ename':'Gerry','email':'gtiltp@diigo.com','gender':'Male'},\n",
    "{'eid':27,'ename':'Richmound','email':'rkilgroveq@howstuffworks.com','gender':'Male'},\n",
    "{'eid':28,'ename':'Vinnie','email':'vgrigoreyr@furl.net','gender':'Male'},\n",
    "{'eid':29,'ename':'Barret','email':'blimpertzs@dmoz.org','gender':'Male'},\n",
    "{'eid':30,'ename':'Matthias','email':'mmacshirriet@cafepress.com','gender':'Male'},\n",
    "{'eid':31,'ename':'Carlotta','email':'cfalkousu@cdc.gov','gender':'Female'},\n",
    "{'eid':32,'ename':'Lyell','email':'lcasemorev@goodreads.com','gender':'Male'},\n",
    "{'eid':33,'ename':'Chester','email':'ctiesw@mapy.cz','gender':'Male'},\n",
    "{'eid':34,'ename':'Sanson','email':'schristianx@stanford.edu','gender':'Male'},\n",
    "{'eid':35,'ename':'Rancell','email':'rgaynesfordy@skyrock.com','gender':'Male'},\n",
    "{'eid':36,'ename':'Gerek','email':'gbrozekz@paypal.com','gender':'Male'},\n",
    "{'eid':37,'ename':'Waverley','email':'wfairest10@myspace.com','gender':'Male'},\n",
    "{'eid':38,'ename':'Valene','email':'vitzig11@histats.com','gender':'Female'},\n",
    "{'eid':39,'ename':'Jeannette','email':'jsaipy12@ycombinator.com','gender':'Female'},\n",
    "{'eid':40,'ename':'Larry','email':'lredwin13@ftc.gov','gender':'Genderqueer'},\n",
    "{'eid':41,'ename':'Sherwynd','email':'sartrick14@ca.gov','gender':'Male'},\n",
    "{'eid':42,'ename':'June','email':'jwinning15@list-manage.com','gender':'Genderqueer'},\n",
    "{'eid':43,'ename':'Hi','email':'hcorrado16@symantec.com','gender':'Male'},\n",
    "{'eid':44,'ename':'Virgie','email':'vmaunsell17@odnoklassniki.ru','gender':'Male'},\n",
    "{'eid':45,'ename':'Rosamond','email':'rschwaiger18@shinystat.com','gender':'Genderqueer'},\n",
    "{'eid':46,'ename':'Elaina','email':'esertin19@histats.com','gender':'Female'},\n",
    "{'eid':47,'ename':'Mable','email':'mgai1a@blog.com','gender':'Female'},\n",
    "{'eid':48,'ename':'Wash','email':'wklisch1b@wufoo.com','gender':'Male'},\n",
    "{'eid':49,'ename':'Herman','email':'hwilgar1c@aol.com','gender':'Non-binary'},\n",
    "{'eid':50,'ename':'Dee dee','email':'dcooke1d@nationalgeographic.com','gender':'Female'}]\n",
    "\n",
    "\n",
    "\n",
    "for user in users:\n",
    "    print(user['ename'])"
   ]
  },
  {
   "cell_type": "code",
   "execution_count": null,
   "id": "6f0e6387-3ed7-4c8a-8b55-cf63afee1728",
   "metadata": {},
   "outputs": [],
   "source": []
  }
 ],
 "metadata": {
  "kernelspec": {
   "display_name": "Python 3 (ipykernel)",
   "language": "python",
   "name": "python3"
  },
  "language_info": {
   "codemirror_mode": {
    "name": "ipython",
    "version": 3
   },
   "file_extension": ".py",
   "mimetype": "text/x-python",
   "name": "python",
   "nbconvert_exporter": "python",
   "pygments_lexer": "ipython3",
   "version": "3.12.5"
  }
 },
 "nbformat": 4,
 "nbformat_minor": 5
}
